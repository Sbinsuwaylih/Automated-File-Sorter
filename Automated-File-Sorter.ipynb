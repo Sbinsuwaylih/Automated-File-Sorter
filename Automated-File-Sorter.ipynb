{
 "cells": [
  {
   "cell_type": "markdown",
   "id": "f7a5a883",
   "metadata": {},
   "source": [
    "# Automated File Sorter"
   ]
  },
  {
   "cell_type": "code",
   "execution_count": null,
   "id": "3f2161d6",
   "metadata": {},
   "outputs": [],
   "source": [
    "import os,shutil \n",
    "from platform import python_version"
   ]
  },
  {
   "cell_type": "markdown",
   "id": "372d475f",
   "metadata": {},
   "source": [
    "### The 'r' is for not reading the backslashes as programming backslashes; it's read as a raw string\n",
    "#### Please make sure to replace the back slashes (\\\\) to  forward slashes (/) in the path "
   ]
  },
  {
   "cell_type": "code",
   "execution_count": null,
   "id": "c19f1d06",
   "metadata": {},
   "outputs": [],
   "source": [
    "#example: C:/----/----/----/--\n",
    "path = r'pase the path here'"
   ]
  },
  {
   "cell_type": "markdown",
   "id": "a86d8d77",
   "metadata": {},
   "source": [
    "### listdir() return all files in this path"
   ]
  },
  {
   "cell_type": "code",
   "execution_count": null,
   "id": "dfa35e43",
   "metadata": {
    "scrolled": true
   },
   "outputs": [],
   "source": [
    "file_names = os.listdir(path)"
   ]
  },
  {
   "cell_type": "markdown",
   "id": "7f3f6d2d",
   "metadata": {},
   "source": [
    "### Create this folder in this path "
   ]
  },
  {
   "cell_type": "code",
   "execution_count": null,
   "id": "da9fc893",
   "metadata": {},
   "outputs": [],
   "source": [
    "# the files name\n",
    "folder_names = ['Sheets files', 'Text files', 'Document files','Pdf files','Image files', 'PowerPoint files']\n",
    "choose_files = [0, 1, 2, 3, 4, 5, 6]\n",
    "print('Select the type of folders:\\n 0: Sheets files\\n 1: Text files\\n 2: Document files\\n 3: Pdf files\\n 4: Image files\\n 5: PowerPoint files')\n",
    "print('---------------------------\\n')\n",
    "print('Enter -1 to finish. \\nNote:  Enter the numbers one by one.\\n')\n",
    "\n",
    "numbers = set()\n",
    "inpt = None\n",
    "while(inpt != -1):\n",
    "    inpt = int(input('Enter: '))\n",
    "    if inpt != -1:\n",
    "     (numbers.add(inpt))if inpt>=0 and inpt <len(folder_names) else print('Please enter an acceptable value.')\n",
    "     \n",
    "for loob in range(0,6):\n",
    "    if not os.path.exists(path + folder_names[loob]) and loob in numbers:\n",
    "        print(path + folder_names[loob])  \n",
    "        os.makedirs(path + folder_names[loob])"
   ]
  },
  {
   "cell_type": "markdown",
   "id": "2c23a616",
   "metadata": {},
   "source": [
    "# Read every file in the specific path and check if this file is not in the folder; then, move it there"
   ]
  },
  {
   "cell_type": "code",
   "execution_count": null,
   "id": "59d424af",
   "metadata": {},
   "outputs": [],
   "source": [
    "for file in file_names:\n",
    "    if '.csv' in file and not os.path.exists(path + folder_names[0]+'/' + file):\n",
    "        shutil.move(path + file, path +  folder_names[0]+'/' + file)\n",
    "    elif '.xlsx' in file and not os.path.exists(path + folder_names[0]+'/' + file):\n",
    "        shutil.move(path + file, path +folder_names[0]+'/' + file)\n",
    "        \n",
    "    elif '.txt' in file and not os.path.exists(path + folder_names[1]+'/' + file):\n",
    "        shutil.move(path + file, path + folder_names[1]+'/' + file)\n",
    "        \n",
    "    elif '.docx' in file and not os.path.exists(path +  folder_names[2]+'/' + file):\n",
    "        shutil.move(path + file, path + folder_names[2]+'/' + file)\n",
    "        \n",
    "    elif '.pdf' in file and not os.path.exists(path + folder_names[3]+'/' + file):\n",
    "        shutil.move(path + file, path +folder_names[3]+'/' + file)\n",
    "        \n",
    "    elif '.png' in file and not os.path.exists(path + folder_names[4]+'/' + file):\n",
    "        shutil.move(path + file, path + folder_names[4]+'/' + file)\n",
    "        \n",
    "    elif '.pptx' in file and not os.path.exists(path + folder_names[5]+'/' + file):\n",
    "        shutil.move(path + file, path + folder_names[5]+'/' + file)\n",
    "        \n",
    "        \n",
    "    ## if you want add more types just add the name file in 'folder_name' if you like and be sure to index it here \n",
    "    #  put the type like these codes\n",
    "    "
   ]
  },
  {
   "cell_type": "code",
   "execution_count": null,
   "id": "eb8c3a98",
   "metadata": {},
   "outputs": [],
   "source": [
    "python_version()"
   ]
  },
  {
   "cell_type": "code",
   "execution_count": null,
   "id": "6e7ba838",
   "metadata": {},
   "outputs": [],
   "source": [
    "python_version()"
   ]
  },
  {
   "cell_type": "code",
   "execution_count": null,
   "id": "a3f732da",
   "metadata": {},
   "outputs": [],
   "source": []
  }
 ],
 "metadata": {
  "kernelspec": {
   "display_name": "Python 3 (ipykernel)",
   "language": "python",
   "name": "python3"
  },
  "language_info": {
   "codemirror_mode": {
    "name": "ipython",
    "version": 3
   },
   "file_extension": ".py",
   "mimetype": "text/x-python",
   "name": "python",
   "nbconvert_exporter": "python",
   "pygments_lexer": "ipython3",
   "version": "3.9.18"
  }
 },
 "nbformat": 4,
 "nbformat_minor": 5
}
